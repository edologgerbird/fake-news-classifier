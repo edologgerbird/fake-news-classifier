{
 "metadata": {
  "language_info": {
   "codemirror_mode": {
    "name": "ipython",
    "version": 3
   },
   "file_extension": ".py",
   "mimetype": "text/x-python",
   "name": "python",
   "nbconvert_exporter": "python",
   "pygments_lexer": "ipython3",
   "version": "3.8.5"
  },
  "orig_nbformat": 4,
  "kernelspec": {
   "name": "python3",
   "display_name": "Python 3.8.5 64-bit ('base': conda)"
  },
  "interpreter": {
   "hash": "b3eae607148ff0a599e70772c0f7727589d0b1beea087ab41fc4f7f594d8e05a"
  }
 },
 "nbformat": 4,
 "nbformat_minor": 2,
 "cells": [
  {
   "cell_type": "code",
   "execution_count": 24,
   "metadata": {},
   "outputs": [],
   "source": [
    "from sklearn.feature_extraction.text import HashingVectorizer, ENGLISH_STOP_WORDS, TfidfVectorizer\n",
    "#from sklearn.feature_extraction import stop_words\n",
    "from sklearn.cluster import KMeans\n",
    "from sklearn.decomposition import PCA\n",
    "\n",
    "import numpy as np\n",
    "import pandas as pd\n",
    "import matplotlib.pyplot as plt\n",
    "import seaborn as sns; sns.set()  # for plot styling\n",
    "\n",
    "from sklearn.model_selection import train_test_split, GridSearchCV\n",
    "from sklearn.pipeline import Pipeline\n",
    "from sklearn import metrics, cluster\n",
    "from sklearn.decomposition import PCA #PCA\n",
    "\n",
    "import nltk\n",
    "from nltk.corpus import stopwords\n",
    "from nltk.stem.porter import PorterStemmer\n",
    "# nltk.download('stopwords')\n",
    "# nltk.download('wordnet')\n",
    "\n",
    "import string"
   ]
  },
  {
   "cell_type": "code",
   "execution_count": 2,
   "metadata": {},
   "outputs": [],
   "source": [
    "# Import data\n",
    "\n",
    "df = pd.read_csv('fake_news_dataset.csv')"
   ]
  },
  {
   "cell_type": "code",
   "execution_count": 3,
   "metadata": {},
   "outputs": [
    {
     "output_type": "execute_result",
     "data": {
      "text/plain": [
       "   id                                              title              author  \\\n",
       "0   0  House Dem Aide: We Didn’t Even See Comey’s Let...       Darrell Lucus   \n",
       "1   1  FLYNN: Hillary Clinton, Big Woman on Campus - ...     Daniel J. Flynn   \n",
       "2   2                  Why the Truth Might Get You Fired  Consortiumnews.com   \n",
       "3   3  15 Civilians Killed In Single US Airstrike Hav...     Jessica Purkiss   \n",
       "4   4  Iranian woman jailed for fictional unpublished...      Howard Portnoy   \n",
       "\n",
       "                                                text  label  \n",
       "0  House Dem Aide: We Didn’t Even See Comey’s Let...      1  \n",
       "1  Ever get the feeling your life circles the rou...      0  \n",
       "2  Why the Truth Might Get You Fired October 29, ...      1  \n",
       "3  Videos 15 Civilians Killed In Single US Airstr...      1  \n",
       "4  Print \\nAn Iranian woman has been sentenced to...      1  "
      ],
      "text/html": "<div>\n<style scoped>\n    .dataframe tbody tr th:only-of-type {\n        vertical-align: middle;\n    }\n\n    .dataframe tbody tr th {\n        vertical-align: top;\n    }\n\n    .dataframe thead th {\n        text-align: right;\n    }\n</style>\n<table border=\"1\" class=\"dataframe\">\n  <thead>\n    <tr style=\"text-align: right;\">\n      <th></th>\n      <th>id</th>\n      <th>title</th>\n      <th>author</th>\n      <th>text</th>\n      <th>label</th>\n    </tr>\n  </thead>\n  <tbody>\n    <tr>\n      <th>0</th>\n      <td>0</td>\n      <td>House Dem Aide: We Didn’t Even See Comey’s Let...</td>\n      <td>Darrell Lucus</td>\n      <td>House Dem Aide: We Didn’t Even See Comey’s Let...</td>\n      <td>1</td>\n    </tr>\n    <tr>\n      <th>1</th>\n      <td>1</td>\n      <td>FLYNN: Hillary Clinton, Big Woman on Campus - ...</td>\n      <td>Daniel J. Flynn</td>\n      <td>Ever get the feeling your life circles the rou...</td>\n      <td>0</td>\n    </tr>\n    <tr>\n      <th>2</th>\n      <td>2</td>\n      <td>Why the Truth Might Get You Fired</td>\n      <td>Consortiumnews.com</td>\n      <td>Why the Truth Might Get You Fired October 29, ...</td>\n      <td>1</td>\n    </tr>\n    <tr>\n      <th>3</th>\n      <td>3</td>\n      <td>15 Civilians Killed In Single US Airstrike Hav...</td>\n      <td>Jessica Purkiss</td>\n      <td>Videos 15 Civilians Killed In Single US Airstr...</td>\n      <td>1</td>\n    </tr>\n    <tr>\n      <th>4</th>\n      <td>4</td>\n      <td>Iranian woman jailed for fictional unpublished...</td>\n      <td>Howard Portnoy</td>\n      <td>Print \\nAn Iranian woman has been sentenced to...</td>\n      <td>1</td>\n    </tr>\n  </tbody>\n</table>\n</div>"
     },
     "metadata": {},
     "execution_count": 3
    }
   ],
   "source": [
    "df.head()"
   ]
  },
  {
   "cell_type": "code",
   "execution_count": 4,
   "metadata": {},
   "outputs": [
    {
     "output_type": "execute_result",
     "data": {
      "text/plain": [
       "(20800, 5)"
      ]
     },
     "metadata": {},
     "execution_count": 4
    }
   ],
   "source": [
    "    df.shape"
   ]
  },
  {
   "cell_type": "code",
   "execution_count": 5,
   "metadata": {},
   "outputs": [
    {
     "output_type": "stream",
     "name": "stdout",
     "text": [
      "<class 'pandas.core.frame.DataFrame'>\nRangeIndex: 20800 entries, 0 to 20799\nData columns (total 5 columns):\n #   Column  Non-Null Count  Dtype \n---  ------  --------------  ----- \n 0   id      20800 non-null  int64 \n 1   title   20242 non-null  object\n 2   author  18843 non-null  object\n 3   text    20761 non-null  object\n 4   label   20800 non-null  int64 \ndtypes: int64(2), object(3)\nmemory usage: 812.6+ KB\n"
     ]
    }
   ],
   "source": [
    "df.info()"
   ]
  },
  {
   "cell_type": "code",
   "execution_count": 6,
   "metadata": {},
   "outputs": [],
   "source": [
    "# Dropping ID column\n",
    "\n",
    "df = df.drop(columns=['id'])"
   ]
  },
  {
   "cell_type": "code",
   "execution_count": 7,
   "metadata": {},
   "outputs": [],
   "source": [
    "# Replacing NULL values with empty string\n",
    "\n",
    "df = df.fillna('')"
   ]
  },
  {
   "cell_type": "code",
   "execution_count": 8,
   "metadata": {},
   "outputs": [
    {
     "output_type": "stream",
     "name": "stdout",
     "text": [
      "<class 'pandas.core.frame.DataFrame'>\nRangeIndex: 20800 entries, 0 to 20799\nData columns (total 4 columns):\n #   Column  Non-Null Count  Dtype \n---  ------  --------------  ----- \n 0   title   20800 non-null  object\n 1   author  20800 non-null  object\n 2   text    20800 non-null  object\n 3   label   20800 non-null  int64 \ndtypes: int64(1), object(3)\nmemory usage: 650.1+ KB\n"
     ]
    }
   ],
   "source": [
    "df.info()"
   ]
  },
  {
   "cell_type": "code",
   "execution_count": 9,
   "metadata": {},
   "outputs": [
    {
     "output_type": "execute_result",
     "data": {
      "text/plain": [
       "1    10413\n",
       "0    10387\n",
       "Name: label, dtype: int64"
      ]
     },
     "metadata": {},
     "execution_count": 9
    }
   ],
   "source": [
    "df['label'].value_counts()"
   ]
  },
  {
   "cell_type": "code",
   "execution_count": 10,
   "metadata": {},
   "outputs": [],
   "source": [
    "pd.options.mode.chained_assignment = None  \n",
    "df['corpus'] = df['title'] + ' ' + df['author'] + ' ' + df['text']"
   ]
  },
  {
   "cell_type": "code",
   "execution_count": 11,
   "metadata": {},
   "outputs": [
    {
     "output_type": "execute_result",
     "data": {
      "text/plain": [
       "                                                   title  \\\n",
       "0      House Dem Aide: We Didn’t Even See Comey’s Let...   \n",
       "1      FLYNN: Hillary Clinton, Big Woman on Campus - ...   \n",
       "2                      Why the Truth Might Get You Fired   \n",
       "3      15 Civilians Killed In Single US Airstrike Hav...   \n",
       "4      Iranian woman jailed for fictional unpublished...   \n",
       "...                                                  ...   \n",
       "20795  Rapper T.I.: Trump a ’Poster Child For White S...   \n",
       "20796  N.F.L. Playoffs: Schedule, Matchups and Odds -...   \n",
       "20797  Macy’s Is Said to Receive Takeover Approach by...   \n",
       "20798  NATO, Russia To Hold Parallel Exercises In Bal...   \n",
       "20799                          What Keeps the F-35 Alive   \n",
       "\n",
       "                                          author  \\\n",
       "0                                  Darrell Lucus   \n",
       "1                                Daniel J. Flynn   \n",
       "2                             Consortiumnews.com   \n",
       "3                                Jessica Purkiss   \n",
       "4                                 Howard Portnoy   \n",
       "...                                          ...   \n",
       "20795                              Jerome Hudson   \n",
       "20796                           Benjamin Hoffman   \n",
       "20797  Michael J. de la Merced and Rachel Abrams   \n",
       "20798                                Alex Ansary   \n",
       "20799                              David Swanson   \n",
       "\n",
       "                                                    text  label  \\\n",
       "0      House Dem Aide: We Didn’t Even See Comey’s Let...      1   \n",
       "1      Ever get the feeling your life circles the rou...      0   \n",
       "2      Why the Truth Might Get You Fired October 29, ...      1   \n",
       "3      Videos 15 Civilians Killed In Single US Airstr...      1   \n",
       "4      Print \\nAn Iranian woman has been sentenced to...      1   \n",
       "...                                                  ...    ...   \n",
       "20795  Rapper T. I. unloaded on black celebrities who...      0   \n",
       "20796  When the Green Bay Packers lost to the Washing...      0   \n",
       "20797  The Macy’s of today grew from the union of sev...      0   \n",
       "20798  NATO, Russia To Hold Parallel Exercises In Bal...      1   \n",
       "20799    David Swanson is an author, activist, journa...      1   \n",
       "\n",
       "                                                  corpus  \n",
       "0      House Dem Aide: We Didn’t Even See Comey’s Let...  \n",
       "1      FLYNN: Hillary Clinton, Big Woman on Campus - ...  \n",
       "2      Why the Truth Might Get You Fired Consortiumne...  \n",
       "3      15 Civilians Killed In Single US Airstrike Hav...  \n",
       "4      Iranian woman jailed for fictional unpublished...  \n",
       "...                                                  ...  \n",
       "20795  Rapper T.I.: Trump a ’Poster Child For White S...  \n",
       "20796  N.F.L. Playoffs: Schedule, Matchups and Odds -...  \n",
       "20797  Macy’s Is Said to Receive Takeover Approach by...  \n",
       "20798  NATO, Russia To Hold Parallel Exercises In Bal...  \n",
       "20799  What Keeps the F-35 Alive David Swanson   Davi...  \n",
       "\n",
       "[20800 rows x 5 columns]"
      ],
      "text/html": "<div>\n<style scoped>\n    .dataframe tbody tr th:only-of-type {\n        vertical-align: middle;\n    }\n\n    .dataframe tbody tr th {\n        vertical-align: top;\n    }\n\n    .dataframe thead th {\n        text-align: right;\n    }\n</style>\n<table border=\"1\" class=\"dataframe\">\n  <thead>\n    <tr style=\"text-align: right;\">\n      <th></th>\n      <th>title</th>\n      <th>author</th>\n      <th>text</th>\n      <th>label</th>\n      <th>corpus</th>\n    </tr>\n  </thead>\n  <tbody>\n    <tr>\n      <th>0</th>\n      <td>House Dem Aide: We Didn’t Even See Comey’s Let...</td>\n      <td>Darrell Lucus</td>\n      <td>House Dem Aide: We Didn’t Even See Comey’s Let...</td>\n      <td>1</td>\n      <td>House Dem Aide: We Didn’t Even See Comey’s Let...</td>\n    </tr>\n    <tr>\n      <th>1</th>\n      <td>FLYNN: Hillary Clinton, Big Woman on Campus - ...</td>\n      <td>Daniel J. Flynn</td>\n      <td>Ever get the feeling your life circles the rou...</td>\n      <td>0</td>\n      <td>FLYNN: Hillary Clinton, Big Woman on Campus - ...</td>\n    </tr>\n    <tr>\n      <th>2</th>\n      <td>Why the Truth Might Get You Fired</td>\n      <td>Consortiumnews.com</td>\n      <td>Why the Truth Might Get You Fired October 29, ...</td>\n      <td>1</td>\n      <td>Why the Truth Might Get You Fired Consortiumne...</td>\n    </tr>\n    <tr>\n      <th>3</th>\n      <td>15 Civilians Killed In Single US Airstrike Hav...</td>\n      <td>Jessica Purkiss</td>\n      <td>Videos 15 Civilians Killed In Single US Airstr...</td>\n      <td>1</td>\n      <td>15 Civilians Killed In Single US Airstrike Hav...</td>\n    </tr>\n    <tr>\n      <th>4</th>\n      <td>Iranian woman jailed for fictional unpublished...</td>\n      <td>Howard Portnoy</td>\n      <td>Print \\nAn Iranian woman has been sentenced to...</td>\n      <td>1</td>\n      <td>Iranian woman jailed for fictional unpublished...</td>\n    </tr>\n    <tr>\n      <th>...</th>\n      <td>...</td>\n      <td>...</td>\n      <td>...</td>\n      <td>...</td>\n      <td>...</td>\n    </tr>\n    <tr>\n      <th>20795</th>\n      <td>Rapper T.I.: Trump a ’Poster Child For White S...</td>\n      <td>Jerome Hudson</td>\n      <td>Rapper T. I. unloaded on black celebrities who...</td>\n      <td>0</td>\n      <td>Rapper T.I.: Trump a ’Poster Child For White S...</td>\n    </tr>\n    <tr>\n      <th>20796</th>\n      <td>N.F.L. Playoffs: Schedule, Matchups and Odds -...</td>\n      <td>Benjamin Hoffman</td>\n      <td>When the Green Bay Packers lost to the Washing...</td>\n      <td>0</td>\n      <td>N.F.L. Playoffs: Schedule, Matchups and Odds -...</td>\n    </tr>\n    <tr>\n      <th>20797</th>\n      <td>Macy’s Is Said to Receive Takeover Approach by...</td>\n      <td>Michael J. de la Merced and Rachel Abrams</td>\n      <td>The Macy’s of today grew from the union of sev...</td>\n      <td>0</td>\n      <td>Macy’s Is Said to Receive Takeover Approach by...</td>\n    </tr>\n    <tr>\n      <th>20798</th>\n      <td>NATO, Russia To Hold Parallel Exercises In Bal...</td>\n      <td>Alex Ansary</td>\n      <td>NATO, Russia To Hold Parallel Exercises In Bal...</td>\n      <td>1</td>\n      <td>NATO, Russia To Hold Parallel Exercises In Bal...</td>\n    </tr>\n    <tr>\n      <th>20799</th>\n      <td>What Keeps the F-35 Alive</td>\n      <td>David Swanson</td>\n      <td>David Swanson is an author, activist, journa...</td>\n      <td>1</td>\n      <td>What Keeps the F-35 Alive David Swanson   Davi...</td>\n    </tr>\n  </tbody>\n</table>\n<p>20800 rows × 5 columns</p>\n</div>"
     },
     "metadata": {},
     "execution_count": 11
    }
   ],
   "source": [
    "df"
   ]
  },
  {
   "cell_type": "code",
   "execution_count": 12,
   "metadata": {},
   "outputs": [],
   "source": [
    "df = df.drop(['title','author','text'], axis=1)"
   ]
  },
  {
   "cell_type": "code",
   "execution_count": 13,
   "metadata": {},
   "outputs": [
    {
     "output_type": "stream",
     "name": "stdout",
     "text": [
      "<class 'pandas.core.frame.DataFrame'>\nRangeIndex: 20800 entries, 0 to 20799\nData columns (total 2 columns):\n #   Column  Non-Null Count  Dtype \n---  ------  --------------  ----- \n 0   label   20800 non-null  int64 \n 1   corpus  20800 non-null  object\ndtypes: int64(1), object(1)\nmemory usage: 325.1+ KB\n"
     ]
    }
   ],
   "source": [
    "df.info()"
   ]
  },
  {
   "cell_type": "code",
   "execution_count": 14,
   "metadata": {},
   "outputs": [
    {
     "output_type": "execute_result",
     "data": {
      "text/plain": [
       "   label                                             corpus\n",
       "0      1  House Dem Aide: We Didn’t Even See Comey’s Let...\n",
       "1      0  FLYNN: Hillary Clinton, Big Woman on Campus - ...\n",
       "2      1  Why the Truth Might Get You Fired Consortiumne...\n",
       "3      1  15 Civilians Killed In Single US Airstrike Hav...\n",
       "4      1  Iranian woman jailed for fictional unpublished...\n",
       "5      0  Jackie Mason: Hollywood Would Love Trump if He...\n",
       "6      1  Life: Life Of Luxury: Elton John’s 6 Favorite ...\n",
       "7      0  Benoît Hamon Wins French Socialist Party’s Pre...\n",
       "8      0  Excerpts From a Draft Script for Donald Trump’...\n",
       "9      0  A Back-Channel Plan for Ukraine and Russia, Co..."
      ],
      "text/html": "<div>\n<style scoped>\n    .dataframe tbody tr th:only-of-type {\n        vertical-align: middle;\n    }\n\n    .dataframe tbody tr th {\n        vertical-align: top;\n    }\n\n    .dataframe thead th {\n        text-align: right;\n    }\n</style>\n<table border=\"1\" class=\"dataframe\">\n  <thead>\n    <tr style=\"text-align: right;\">\n      <th></th>\n      <th>label</th>\n      <th>corpus</th>\n    </tr>\n  </thead>\n  <tbody>\n    <tr>\n      <th>0</th>\n      <td>1</td>\n      <td>House Dem Aide: We Didn’t Even See Comey’s Let...</td>\n    </tr>\n    <tr>\n      <th>1</th>\n      <td>0</td>\n      <td>FLYNN: Hillary Clinton, Big Woman on Campus - ...</td>\n    </tr>\n    <tr>\n      <th>2</th>\n      <td>1</td>\n      <td>Why the Truth Might Get You Fired Consortiumne...</td>\n    </tr>\n    <tr>\n      <th>3</th>\n      <td>1</td>\n      <td>15 Civilians Killed In Single US Airstrike Hav...</td>\n    </tr>\n    <tr>\n      <th>4</th>\n      <td>1</td>\n      <td>Iranian woman jailed for fictional unpublished...</td>\n    </tr>\n    <tr>\n      <th>5</th>\n      <td>0</td>\n      <td>Jackie Mason: Hollywood Would Love Trump if He...</td>\n    </tr>\n    <tr>\n      <th>6</th>\n      <td>1</td>\n      <td>Life: Life Of Luxury: Elton John’s 6 Favorite ...</td>\n    </tr>\n    <tr>\n      <th>7</th>\n      <td>0</td>\n      <td>Benoît Hamon Wins French Socialist Party’s Pre...</td>\n    </tr>\n    <tr>\n      <th>8</th>\n      <td>0</td>\n      <td>Excerpts From a Draft Script for Donald Trump’...</td>\n    </tr>\n    <tr>\n      <th>9</th>\n      <td>0</td>\n      <td>A Back-Channel Plan for Ukraine and Russia, Co...</td>\n    </tr>\n  </tbody>\n</table>\n</div>"
     },
     "metadata": {},
     "execution_count": 14
    }
   ],
   "source": [
    "df.head(10)"
   ]
  },
  {
   "cell_type": "code",
   "execution_count": 15,
   "metadata": {},
   "outputs": [],
   "source": [
    "# Splitting data to training and test sets\n",
    "\n",
    "x_train, x_test, y_train, y_test = train_test_split(df.corpus, df.label, test_size=0.20, random_state=0)"
   ]
  },
  {
   "cell_type": "code",
   "execution_count": 21,
   "metadata": {},
   "outputs": [
    {
     "output_type": "execute_result",
     "data": {
      "text/plain": [
       "15902    Trump Reopening 9/11, Reversing Rome, in Bid t...\n",
       "7375     Trump Inherits a Secret Cyberwar Against North...\n",
       "4889     Sergei Shoigu: Admiral Kuznetsov Aircraft-carr...\n",
       "2143     With Mass Protests, South Koreans Wield a Fami...\n",
       "18373    The Most Important Primary Is ... Wait, Indian...\n",
       "Name: corpus, dtype: object"
      ]
     },
     "metadata": {},
     "execution_count": 21
    }
   ],
   "source": [
    "x_train.head()"
   ]
  },
  {
   "cell_type": "code",
   "execution_count": 30,
   "metadata": {},
   "outputs": [
    {
     "output_type": "execute_result",
     "data": {
      "text/plain": [
       "20386    Bob Dylan’s Nobel Prize: A Podcast Discussion ...\n",
       "16794    Nuclear Weapons in South Korea under Discussio...\n",
       "5500     Solar Storm Alert No Author October 27, 2016 S...\n",
       "9398     Keith Lamont Scott Was Killed by Two Gunshot W...\n",
       "4266     Tom Cotton: Paul Ryan’s Healthcare Bill Does N...\n",
       "Name: corpus, dtype: object"
      ]
     },
     "metadata": {},
     "execution_count": 30
    }
   ],
   "source": [
    "x_test.head()"
   ]
  },
  {
   "cell_type": "code",
   "execution_count": 31,
   "metadata": {},
   "outputs": [
    {
     "output_type": "execute_result",
     "data": {
      "text/plain": [
       "15902    1\n",
       "7375     0\n",
       "4889     1\n",
       "2143     0\n",
       "18373    0\n",
       "Name: label, dtype: int64"
      ]
     },
     "metadata": {},
     "execution_count": 31
    }
   ],
   "source": [
    "y_train.head()"
   ]
  },
  {
   "cell_type": "code",
   "execution_count": 32,
   "metadata": {},
   "outputs": [
    {
     "output_type": "execute_result",
     "data": {
      "text/plain": [
       "20386    0\n",
       "16794    1\n",
       "5500     1\n",
       "9398     0\n",
       "4266     0\n",
       "Name: label, dtype: int64"
      ]
     },
     "metadata": {},
     "execution_count": 32
    }
   ],
   "source": [
    "y_test.head()"
   ]
  },
  {
   "cell_type": "code",
   "execution_count": 26,
   "metadata": {},
   "outputs": [],
   "source": [
    "# word stemmer to reduce words to root forms\n",
    "\n",
    "stemmer = PorterStemmer()"
   ]
  },
  {
   "cell_type": "code",
   "execution_count": 28,
   "metadata": {},
   "outputs": [],
   "source": [
    "# Hashing Vectorizer\n",
    "\n",
    "hashing_vectoriser = HashingVectorizer(stop_words='english', analyzer=stemmer.stem)\n",
    "\n",
    "hashing_train = hashing_vectoriser.fit_transform(x_train)\n",
    "\n",
    "hashing_test = hashing_vectoriser.transform(x_test)"
   ]
  },
  {
   "cell_type": "code",
   "execution_count": 29,
   "metadata": {},
   "outputs": [],
   "source": [
    "# TF-IDF Vectorizer\n",
    "\n",
    "tfidf_vectoriser = TfidfVectorizer(stop_words='english', analyzer=stemmer.stem)\n",
    "\n",
    "tfidf_train = tfidf_vectoriser.fit_transform(x_train)\n",
    "\n",
    "tfidf_test = tfidf_vectoriser.transform(x_test)"
   ]
  },
  {
   "cell_type": "code",
   "execution_count": 41,
   "metadata": {},
   "outputs": [],
   "source": [
    "kmeans = KMeans(n_clusters=2, n_init=20)\n"
   ]
  },
  {
   "cell_type": "code",
   "execution_count": 42,
   "metadata": {},
   "outputs": [
    {
     "output_type": "execute_result",
     "data": {
      "text/plain": [
       "0.49044471153846153"
      ]
     },
     "metadata": {},
     "execution_count": 42
    }
   ],
   "source": [
    "hashing_clustered = kmeans.fit_predict(hashing_train)\n",
    "hashing_clustered_results = metrics.accuracy_score(y_train, hashing_clustered)\n",
    "hashing_clustered_results"
   ]
  },
  {
   "cell_type": "code",
   "execution_count": 43,
   "metadata": {},
   "outputs": [
    {
     "output_type": "execute_result",
     "data": {
      "text/plain": [
       "0.5095552884615384"
      ]
     },
     "metadata": {},
     "execution_count": 43
    }
   ],
   "source": [
    "tfidf_clustered = kmeans.fit_predict(tfidf_train)\n",
    "tfidf_clustered_results = metrics.accuracy_score(y_train, tfidf_clustered)\n",
    "tfidf_clustered_results"
   ]
  },
  {
   "source": [
    "Unsupervised learning was not effective in discriminating real and fake news. There may not exist sufficient inherent patterns in news content to effectively discrimate between real and fake news."
   ],
   "cell_type": "markdown",
   "metadata": {}
  }
 ]
}